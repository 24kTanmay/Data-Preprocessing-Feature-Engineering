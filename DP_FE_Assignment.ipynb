{
 "cells": [
  {
   "cell_type": "markdown",
   "metadata": {},
   "source": [
    "#### 1. Load the dataset and display the first five rows. Summarize the dataset using descriptive statistics."
   ]
  },
  {
   "cell_type": "code",
   "execution_count": 5,
   "metadata": {},
   "outputs": [
    {
     "name": "stdout",
     "output_type": "stream",
     "text": [
      "             Timestamp  Voltage (V)  Current (I)    Power (W)  Power_Factor  \\\n",
      "0  2024-12-01 00:00:00   222.483571     4.642510   965.023943      0.880626   \n",
      "1  2024-12-01 00:01:00   219.308678     4.206038   894.158159      0.939144   \n",
      "2  2024-12-01 00:02:00   223.238443     4.143615          NaN      0.864156   \n",
      "3  2024-12-01 00:03:00   227.615149     4.188552  1006.917263      0.926711   \n",
      "4  2024-12-01 00:04:00          NaN     5.165739  1081.262142      0.931754   \n",
      "\n",
      "   Temperature (°C)  Humidity (%)  \n",
      "0         21.734855     45.494834  \n",
      "1               NaN     46.477508  \n",
      "2         17.952615     64.195316  \n",
      "3         19.613098     37.214868  \n",
      "4         21.783244     55.741660  \n",
      "                  Timestamp  Voltage (V)  Current (I)    Power (W)  \\\n",
      "count                 10000  9500.000000  9600.000000  9700.000000   \n",
      "unique                10000          NaN          NaN          NaN   \n",
      "top     2024-12-01 00:00:00          NaN          NaN          NaN   \n",
      "freq                      1          NaN          NaN          NaN   \n",
      "mean                    NaN   219.992912     5.014070  1102.598216   \n",
      "std                     NaN     5.007974     0.579586   143.312091   \n",
      "min                     NaN   200.387999     4.000096   747.956441   \n",
      "25%                     NaN   216.654181     4.514213   989.925889   \n",
      "50%                     NaN   219.997444     5.020268  1100.829462   \n",
      "75%                     NaN   223.348834     5.515116  1207.908605   \n",
      "max                     NaN   239.631189     5.999850  1498.874098   \n",
      "\n",
      "        Power_Factor  Temperature (°C)  Humidity (%)  \n",
      "count    9800.000000       9700.000000   9600.000000  \n",
      "unique           NaN               NaN           NaN  \n",
      "top              NaN               NaN           NaN  \n",
      "freq             NaN               NaN           NaN  \n",
      "mean        0.919970         20.003119     50.003748  \n",
      "std         0.040413          7.363127     11.547591  \n",
      "min         0.850001          3.005629     30.000337  \n",
      "25%         0.885059         13.225365     40.117437  \n",
      "50%         0.920172         20.011891     49.917048  \n",
      "75%         0.954773         26.657589     60.105216  \n",
      "max         0.989985         36.151952     69.997588  \n"
     ]
    }
   ],
   "source": [
    "import pandas as pd\n",
    "# Load dataset and display the first five rows\n",
    "data = pd.read_csv('electrical_dataset.csv')\n",
    "print(data.head())\n",
    "\n",
    "# Summarize the dataset with descriptive statistics\n",
    "print(data.describe(include='all'))"
   ]
  },
  {
   "cell_type": "markdown",
   "metadata": {},
   "source": [
    "#### 2. Identify the columns with missing values in the dataset. Calculate the percentage of missing values for each column. Impute the missing values using appropriate techniques (e.g., mean, median, or forward fill). Explain your choice."
   ]
  },
  {
   "cell_type": "markdown",
   "metadata": {},
   "source": [
    "##### 2.1 Identify the columns with missing values in the dataset. Calculate the percentage of missing values for each column."
   ]
  },
  {
   "cell_type": "code",
   "execution_count": 6,
   "metadata": {},
   "outputs": [
    {
     "name": "stdout",
     "output_type": "stream",
     "text": [
      "Missing Values:\n",
      " Timestamp             0\n",
      "Voltage (V)         500\n",
      "Current (I)         400\n",
      "Power (W)           300\n",
      "Power_Factor        200\n",
      "Temperature (°C)    300\n",
      "Humidity (%)        400\n",
      "dtype: int64\n",
      "\n",
      "Percentage of Missing Values:\n",
      " Timestamp           0.0\n",
      "Voltage (V)         5.0\n",
      "Current (I)         4.0\n",
      "Power (W)           3.0\n",
      "Power_Factor        2.0\n",
      "Temperature (°C)    3.0\n",
      "Humidity (%)        4.0\n",
      "dtype: float64\n"
     ]
    }
   ],
   "source": [
    "# Identify columns with missing values\n",
    "missing_values = data.isnull().sum()\n",
    "percent_missing = (missing_values / len(data)) * 100\n",
    "print(\"Missing Values:\\n\", missing_values)\n",
    "print(\"\\nPercentage of Missing Values:\\n\", percent_missing)"
   ]
  },
  {
   "cell_type": "markdown",
   "metadata": {},
   "source": [
    "##### 2.2 Impute the missing values using appropriate techniques (e.g., mean, median, or forward fill). Explain your choice."
   ]
  },
  {
   "cell_type": "code",
   "execution_count": 7,
   "metadata": {},
   "outputs": [
    {
     "name": "stderr",
     "output_type": "stream",
     "text": [
      "C:\\Users\\ajayd\\AppData\\Local\\Temp\\ipykernel_3156\\2625093720.py:2: FutureWarning: A value is trying to be set on a copy of a DataFrame or Series through chained assignment using an inplace method.\n",
      "The behavior will change in pandas 3.0. This inplace method will never work because the intermediate object on which we are setting values always behaves as a copy.\n",
      "\n",
      "For example, when doing 'df[col].method(value, inplace=True)', try using 'df.method({col: value}, inplace=True)' or df[col] = df[col].method(value) instead, to perform the operation inplace on the original object.\n",
      "\n",
      "\n",
      "  data['Voltage (V)'].fillna(data['Voltage (V)'].mean(), inplace=True)\n",
      "C:\\Users\\ajayd\\AppData\\Local\\Temp\\ipykernel_3156\\2625093720.py:3: FutureWarning: A value is trying to be set on a copy of a DataFrame or Series through chained assignment using an inplace method.\n",
      "The behavior will change in pandas 3.0. This inplace method will never work because the intermediate object on which we are setting values always behaves as a copy.\n",
      "\n",
      "For example, when doing 'df[col].method(value, inplace=True)', try using 'df.method({col: value}, inplace=True)' or df[col] = df[col].method(value) instead, to perform the operation inplace on the original object.\n",
      "\n",
      "\n",
      "  data['Current (I)'].fillna(data['Current (I)'].mean(), inplace=True)\n",
      "C:\\Users\\ajayd\\AppData\\Local\\Temp\\ipykernel_3156\\2625093720.py:4: FutureWarning: A value is trying to be set on a copy of a DataFrame or Series through chained assignment using an inplace method.\n",
      "The behavior will change in pandas 3.0. This inplace method will never work because the intermediate object on which we are setting values always behaves as a copy.\n",
      "\n",
      "For example, when doing 'df[col].method(value, inplace=True)', try using 'df.method({col: value}, inplace=True)' or df[col] = df[col].method(value) instead, to perform the operation inplace on the original object.\n",
      "\n",
      "\n",
      "  data['Power (W)'].fillna(data['Power (W)'].median(), inplace=True)\n",
      "C:\\Users\\ajayd\\AppData\\Local\\Temp\\ipykernel_3156\\2625093720.py:5: FutureWarning: A value is trying to be set on a copy of a DataFrame or Series through chained assignment using an inplace method.\n",
      "The behavior will change in pandas 3.0. This inplace method will never work because the intermediate object on which we are setting values always behaves as a copy.\n",
      "\n",
      "For example, when doing 'df[col].method(value, inplace=True)', try using 'df.method({col: value}, inplace=True)' or df[col] = df[col].method(value) instead, to perform the operation inplace on the original object.\n",
      "\n",
      "\n",
      "  data['Temperature (°C)'].fillna(method='ffill', inplace=True)\n",
      "C:\\Users\\ajayd\\AppData\\Local\\Temp\\ipykernel_3156\\2625093720.py:5: FutureWarning: Series.fillna with 'method' is deprecated and will raise in a future version. Use obj.ffill() or obj.bfill() instead.\n",
      "  data['Temperature (°C)'].fillna(method='ffill', inplace=True)\n",
      "C:\\Users\\ajayd\\AppData\\Local\\Temp\\ipykernel_3156\\2625093720.py:6: FutureWarning: A value is trying to be set on a copy of a DataFrame or Series through chained assignment using an inplace method.\n",
      "The behavior will change in pandas 3.0. This inplace method will never work because the intermediate object on which we are setting values always behaves as a copy.\n",
      "\n",
      "For example, when doing 'df[col].method(value, inplace=True)', try using 'df.method({col: value}, inplace=True)' or df[col] = df[col].method(value) instead, to perform the operation inplace on the original object.\n",
      "\n",
      "\n",
      "  data['Humidity (%)'].fillna(method='bfill', inplace=True)\n",
      "C:\\Users\\ajayd\\AppData\\Local\\Temp\\ipykernel_3156\\2625093720.py:6: FutureWarning: Series.fillna with 'method' is deprecated and will raise in a future version. Use obj.ffill() or obj.bfill() instead.\n",
      "  data['Humidity (%)'].fillna(method='bfill', inplace=True)\n"
     ]
    }
   ],
   "source": [
    "# Impute missing values\n",
    "data['Voltage (V)'].fillna(data['Voltage (V)'].mean(), inplace=True)\n",
    "# Explaination: Using the mean fills missing values by maintaining the overall average of the data, which works well when there are few outliers.\n",
    "data['Current (I)'].fillna(data['Current (I)'].mean(), inplace=True)\n",
    "#Explanation: Using the mean fills missing values by maintaining the overall average of the data, which works well when there are few outliers.\n",
    "data['Power (W)'].fillna(data['Power (W)'].median(), inplace=True)\n",
    "#Explanation: Using the median fills missing values by maintaining the middle value of the data, which works well when there are many outliers.\n",
    "data['Temperature (°C)'].fillna(method='ffill', inplace=True)\n",
    "#Explanation: Using the forward fill method fills missing values with the previous value in the dataset.\n",
    "data['Humidity (%)'].fillna(method='bfill', inplace=True)\n",
    "#Explanation: Using the backward fill method fills missing values with the next value in the dataset."
   ]
  },
  {
   "cell_type": "markdown",
   "metadata": {},
   "source": [
    "#### 3. Apply suitable methods to fill missing values in the dataset. For numerical columns, use mean or median, and for categorical columns, use mode. Justify your choice."
   ]
  },
  {
   "cell_type": "code",
   "execution_count": 26,
   "metadata": {},
   "outputs": [
    {
     "name": "stderr",
     "output_type": "stream",
     "text": [
      "C:\\Users\\ajayd\\AppData\\Local\\Temp\\ipykernel_3156\\575573473.py:3: FutureWarning: A value is trying to be set on a copy of a DataFrame or Series through chained assignment using an inplace method.\n",
      "The behavior will change in pandas 3.0. This inplace method will never work because the intermediate object on which we are setting values always behaves as a copy.\n",
      "\n",
      "For example, when doing 'df[col].method(value, inplace=True)', try using 'df.method({col: value}, inplace=True)' or df[col] = df[col].method(value) instead, to perform the operation inplace on the original object.\n",
      "\n",
      "\n",
      "  data[col].fillna(data[col].mean(), inplace=True)  # Fill with mean for all numerical columns\n",
      "C:\\Users\\ajayd\\AppData\\Local\\Temp\\ipykernel_3156\\575573473.py:8: FutureWarning: A value is trying to be set on a copy of a DataFrame or Series through chained assignment using an inplace method.\n",
      "The behavior will change in pandas 3.0. This inplace method will never work because the intermediate object on which we are setting values always behaves as a copy.\n",
      "\n",
      "For example, when doing 'df[col].method(value, inplace=True)', try using 'df.method({col: value}, inplace=True)' or df[col] = df[col].method(value) instead, to perform the operation inplace on the original object.\n",
      "\n",
      "\n",
      "  data[col].fillna(data[col].mode()[0], inplace=True)  # Fill with mode for all categorical columns\n"
     ]
    }
   ],
   "source": [
    "numerical_columns = data.select_dtypes(include=['float64', 'int64']).columns\n",
    "for col in numerical_columns:\n",
    "    data[col].fillna(data[col].mean(), inplace=True)  # Fill with mean for all numerical columns\n",
    "\n",
    "# For categorical columns (e.g., 'Shift', 'Category', etc.)\n",
    "categorical_columns = data.select_dtypes(include=['object']).columns\n",
    "for col in categorical_columns:\n",
    "    data[col].fillna(data[col].mode()[0], inplace=True)  # Fill with mode for all categorical columns"
   ]
  },
  {
   "cell_type": "markdown",
   "metadata": {},
   "source": [
    "#### 4. Detect outliers in the 'Voltage (V)' and 'Power (W)' columns using the IQR method. How many outliers are present in each column?"
   ]
  },
  {
   "cell_type": "code",
   "execution_count": 8,
   "metadata": {},
   "outputs": [
    {
     "name": "stdout",
     "output_type": "stream",
     "text": [
      "Voltage outliers: 127\n",
      "Power outliers: 0\n"
     ]
    }
   ],
   "source": [
    "# Define a function to detect outliers using IQR\n",
    "def detect_outliers(column):\n",
    "    Q1 = data[column].quantile(0.25)\n",
    "    Q3 = data[column].quantile(0.75)\n",
    "    IQR = Q3 - Q1\n",
    "    outliers = data[(data[column] < (Q1 - 1.5 * IQR)) | (data[column] > (Q3 + 1.5 * IQR))]\n",
    "    return len(outliers)\n",
    "\n",
    "voltage_outliers = detect_outliers('Voltage (V)')\n",
    "power_outliers = detect_outliers('Power (W)')\n",
    "print(f\"Voltage outliers: {voltage_outliers}\")\n",
    "print(f\"Power outliers: {power_outliers}\")"
   ]
  },
  {
   "cell_type": "markdown",
   "metadata": {},
   "source": [
    "#### 5. Normalize the 'Power (W)' column using Min-Max scaling. Verify that the transformed data falls between 0 and 1."
   ]
  },
  {
   "cell_type": "code",
   "execution_count": 10,
   "metadata": {},
   "outputs": [
    {
     "name": "stdout",
     "output_type": "stream",
     "text": [
      "count    10000.000000\n",
      "mean         0.472207\n",
      "std          0.187965\n",
      "min          0.000000\n",
      "25%          0.326754\n",
      "50%          0.469922\n",
      "75%          0.608313\n",
      "max          1.000000\n",
      "Name: Power (W) Normalized, dtype: float64\n"
     ]
    }
   ],
   "source": [
    "# Normalize 'Power (W)'\n",
    "from sklearn.preprocessing import MinMaxScaler\n",
    "\n",
    "scaler = MinMaxScaler()\n",
    "data['Power (W) Normalized'] = scaler.fit_transform(data[['Power (W)']])\n",
    "print(data['Power (W) Normalized'].describe())"
   ]
  },
  {
   "cell_type": "markdown",
   "metadata": {},
   "source": [
    "#### 6. Assume the Timestamp column represents data recorded during different shifts (e.g., Morning, Afternoon, Evening, Night). Create a new categorical feature, ‘Shift’ . Group the dataset by Shiftand calculate the average Power (W) and Temperature for each shift."
   ]
  },
  {
   "cell_type": "code",
   "execution_count": 11,
   "metadata": {},
   "outputs": [
    {
     "name": "stdout",
     "output_type": "stream",
     "text": [
      "             Power (W)  Temperature (°C)\n",
      "Shift                                   \n",
      "Afternoon  1102.399920         20.153809\n",
      "Evening    1102.148928         20.176313\n",
      "Morning    1104.019264         19.925411\n",
      "Night      1101.599923         19.725183\n"
     ]
    }
   ],
   "source": [
    "# Create a 'Shift' column\n",
    "def assign_shift(timestamp):\n",
    "    hour = pd.to_datetime(timestamp).hour\n",
    "    if 6 <= hour < 12:\n",
    "        return 'Morning'\n",
    "    elif 12 <= hour < 18:\n",
    "        return 'Afternoon'\n",
    "    elif 18 <= hour < 24:\n",
    "        return 'Evening'\n",
    "    else:\n",
    "        return 'Night'\n",
    "\n",
    "data['Shift'] = data['Timestamp'].apply(assign_shift)\n",
    "\n",
    "# Group by 'Shift' and calculate averages\n",
    "shift_group = data.groupby('Shift')[['Power (W)', 'Temperature (°C)']].mean()\n",
    "print(shift_group)"
   ]
  },
  {
   "cell_type": "markdown",
   "metadata": {},
   "source": [
    "#### 7. Create a new feature called 'Energy_Efficiency', calculated as 'Power (W) * Power_Factor'. Analyze the correlation between 'Energy_Efficiency' and 'Temperature (C)’."
   ]
  },
  {
   "cell_type": "code",
   "execution_count": 12,
   "metadata": {},
   "outputs": [
    {
     "name": "stdout",
     "output_type": "stream",
     "text": [
      "Correlation: -0.010066573484005182\n"
     ]
    }
   ],
   "source": [
    "# Create 'Energy_Efficiency'\n",
    "data['Energy_Efficiency'] = data['Power (W)'] * data['Power_Factor']\n",
    "\n",
    "# Analyze correlation with 'Temperature (°C)'\n",
    "correlation = data['Energy_Efficiency'].corr(data['Temperature (°C)'])\n",
    "print(f\"Correlation: {correlation}\")"
   ]
  },
  {
   "cell_type": "markdown",
   "metadata": {},
   "source": [
    "#### 8. Aggregate the data to compute the average 'Voltage (V)' and 'Current (I)' for each hour. Visualize the hourly trends."
   ]
  },
  {
   "cell_type": "code",
   "execution_count": 13,
   "metadata": {},
   "outputs": [
    {
     "data": {
      "image/png": "[encoded data removed]",
      "text/plain": [
       "<Figure size 640x480 with 1 Axes>"
      ]
     },
     "metadata": {},
     "output_type": "display_data"
    }
   ],
   "source": [
    "# Aggregate data by hour\n",
    "data['Hour'] = pd.to_datetime(data['Timestamp']).dt.hour\n",
    "hourly_data = data.groupby('Hour')[['Voltage (V)', 'Current (I)']].mean()\n",
    "\n",
    "# Visualize trends\n",
    "import matplotlib.pyplot as plt\n",
    "\n",
    "hourly_data.plot()\n",
    "plt.title('Hourly Trends')\n",
    "plt.xlabel('Hour')\n",
    "plt.ylabel('Average Value')\n",
    "plt.legend(['Voltage (V)', 'Current (I)'])\n",
    "plt.show()"
   ]
  },
  {
   "cell_type": "markdown",
   "metadata": {},
   "source": [
    "#### 9. Categorize the 'Humidity (%)' into bins:\n",
    "- Low: 30-50%\n",
    "- Medium: 50-60%\n",
    "- High: 60-70%\n",
    "<p>Encode these categories numerically and add them as a new column.<p>"
   ]
  },
  {
   "cell_type": "code",
   "execution_count": 14,
   "metadata": {},
   "outputs": [],
   "source": [
    "# Categorize 'Humidity (%)'\n",
    "def categorize_humidity(humidity):\n",
    "    if 30 <= humidity < 50:\n",
    "        return 'Low'\n",
    "    elif 50 <= humidity < 60:\n",
    "        return 'Medium'\n",
    "    elif 60 <= humidity < 70:\n",
    "        return 'High'\n",
    "    else:\n",
    "        return 'Unknown'\n",
    "\n",
    "data['Humidity_Category'] = data['Humidity (%)'].apply(categorize_humidity)\n",
    "\n",
    "# Encode numerically\n",
    "data['Humidity_Category_Encoded'] = data['Humidity_Category'].astype('category').cat.codes"
   ]
  },
  {
   "cell_type": "markdown",
   "metadata": {},
   "source": [
    "#### 10. Compute the Pearson correlation matrix."
   ]
  },
  {
   "cell_type": "code",
   "execution_count": 22,
   "metadata": {},
   "outputs": [
    {
     "name": "stdout",
     "output_type": "stream",
     "text": [
      "                      Voltage (V)  Current (I)  Power (W)  Power_Factor  \\\n",
      "Voltage (V)              1.000000    -0.004613   0.160884     -0.007106   \n",
      "Current (I)             -0.004613     1.000000   0.846713     -0.023374   \n",
      "Power (W)                0.160884     0.846713   1.000000     -0.016370   \n",
      "Power_Factor            -0.007106    -0.023374  -0.016370      1.000000   \n",
      "Temperature (°C)        -0.004322    -0.006430  -0.006724     -0.002752   \n",
      "Humidity (%)             0.011836     0.008816   0.023228     -0.021518   \n",
      "Power (W) Normalized     0.160884     0.846713   1.000000     -0.016370   \n",
      "Energy_Efficiency        0.151616     0.795491   0.944090      0.311502   \n",
      "\n",
      "                      Temperature (°C)  Humidity (%)  Power (W) Normalized  \\\n",
      "Voltage (V)                  -0.004322      0.011836              0.160884   \n",
      "Current (I)                  -0.006430      0.008816              0.846713   \n",
      "Power (W)                    -0.006724      0.023228              1.000000   \n",
      "Power_Factor                 -0.002752     -0.021518             -0.016370   \n",
      "Temperature (°C)              1.000000     -0.018241             -0.006724   \n",
      "Humidity (%)                 -0.018241      1.000000              0.023228   \n",
      "Power (W) Normalized         -0.006724      0.023228              1.000000   \n",
      "Energy_Efficiency            -0.010067      0.012304              0.944090   \n",
      "\n",
      "                      Energy_Efficiency  \n",
      "Voltage (V)                    0.151616  \n",
      "Current (I)                    0.795491  \n",
      "Power (W)                      0.944090  \n",
      "Power_Factor                   0.311502  \n",
      "Temperature (°C)              -0.010067  \n",
      "Humidity (%)                   0.012304  \n",
      "Power (W) Normalized           0.944090  \n",
      "Energy_Efficiency              1.000000  \n",
      "Strongest Correlation: 1.0000000000000033\n"
     ]
    },
    {
     "name": "stderr",
     "output_type": "stream",
     "text": [
      "C:\\Users\\ajayd\\AppData\\Local\\Temp\\ipykernel_3156\\3402744319.py:7: FutureWarning: Series.__getitem__ treating keys as positions is deprecated. In a future version, integer keys will always be treated as labels (consistent with DataFrame behavior). To access a value by position, use `ser.iloc[pos]`\n",
      "  print(f\"Strongest Correlation: {strongest_corr[1]}\")\n"
     ]
    }
   ],
   "source": [
    "# Compute the Pearson correlation matrix(excluding non-numeric columns)\n",
    "data_selected = data.drop(columns=['Hour', 'Humidity_Category', 'Humidity_Category_Encoded', 'Shift','Timestamp'])\n",
    "correlation_matrix = data_selected.corr()\n",
    "print(correlation_matrix)\n",
    "# Find the strongest correlation\n",
    "strongest_corr = correlation_matrix.unstack().sort_values(ascending=False)\n",
    "print(f\"Strongest Correlation: {strongest_corr[1]}\")"
   ]
  },
  {
   "cell_type": "markdown",
   "metadata": {},
   "source": [
    "#### 11.Split the data into train and test sets (80:20 ratio) after cleaning and preprocessing. Prepare the features and target variables for a regression model to predict 'Power (W)’"
   ]
  },
  {
   "cell_type": "code",
   "execution_count": 16,
   "metadata": {},
   "outputs": [],
   "source": [
    "from sklearn.model_selection import train_test_split\n",
    "\n",
    "# Prepare features and target\n",
    "features = data.drop(columns=['Power (W)', 'Timestamp'])\n",
    "target = data['Power (W)']\n",
    "\n",
    "# Split the dataset\n",
    "X_train, X_test, y_train, y_test = train_test_split(features, target, test_size=0.2, random_state=42)"
   ]
  },
  {
   "cell_type": "markdown",
   "metadata": {},
   "source": [
    "#### Exporting the final cleaned and preprocessed dataset in CSV format."
   ]
  },
  {
   "cell_type": "code",
   "execution_count": 27,
   "metadata": {},
   "outputs": [],
   "source": [
    "# Export DataFrame to a new CSV file\n",
    "data.to_csv('electric_database_updated.csv', index=False)\n"
   ]
  }
 ],
 "metadata": {
  "kernelspec": {
   "display_name": "Python 3",
   "language": "python",
   "name": "python3"
  },
  "language_info": {
   "codemirror_mode": {
    "name": "ipython",
    "version": 3
   },
   "file_extension": ".py",
   "mimetype": "text/x-python",
   "name": "python",
   "nbconvert_exporter": "python",
   "pygments_lexer": "ipython3",
   "version": "3.12.6"
  }
 },
 "nbformat": 4,
 "nbformat_minor": 2
}
